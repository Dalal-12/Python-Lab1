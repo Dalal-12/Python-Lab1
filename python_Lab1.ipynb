{
 "cells": [
  {
   "cell_type": "code",
   "execution_count": null,
   "id": "8479d767",
   "metadata": {},
   "outputs": [],
   "source": [
    "my_favourit_season='winter'"
   ]
  },
  {
   "cell_type": "code",
   "execution_count": null,
   "id": "7d8cf095",
   "metadata": {},
   "outputs": [],
   "source": [
    "x=5"
   ]
  },
  {
   "cell_type": "code",
   "execution_count": null,
   "id": "80c3f1bd",
   "metadata": {},
   "outputs": [],
   "source": [
    "y=3.5"
   ]
  },
  {
   "cell_type": "code",
   "execution_count": null,
   "id": "5d09be43",
   "metadata": {},
   "outputs": [],
   "source": [
    "a= b= c= 'Hello World'"
   ]
  },
  {
   "cell_type": "code",
   "execution_count": null,
   "id": "1b0102b1",
   "metadata": {},
   "outputs": [],
   "source": [
    "name= 'dalal' , city= 'Riyadh' , Mobile=5555"
   ]
  },
  {
   "cell_type": "code",
   "execution_count": null,
   "id": "2a0d94b3",
   "metadata": {},
   "outputs": [],
   "source": []
  },
  {
   "cell_type": "markdown",
   "id": "570a10cf",
   "metadata": {},
   "source": [
    "movie_name=input(\"enter tme movie\")\n",
    "movie_rating=3\n",
    "popularity=72.65\n",
    "if movie_rating >= 4 and popularity > 80 :\n",
    "    print (\"Highly Recommended\")\n",
    "elif movie_rating >= 3 and popularity > 70 :\n",
    "    print (\"I Recommended it, It is Good\")\n",
    "elif movie_rating <= 2 :\n",
    "    if popularity > 60 :\n",
    "        print(\"You should check it out\")\n",
    "    else:\n",
    "        print(\"Don't watch it it waste of time\")\n"
   ]
  },
  {
   "cell_type": "code",
   "execution_count": null,
   "id": "38dcb7ed",
   "metadata": {},
   "outputs": [],
   "source": []
  },
  {
   "cell_type": "code",
   "execution_count": null,
   "id": "a9e2d6b3",
   "metadata": {},
   "outputs": [],
   "source": []
  },
  {
   "cell_type": "code",
   "execution_count": null,
   "id": "43a9a5df",
   "metadata": {},
   "outputs": [],
   "source": []
  }
 ],
 "metadata": {
  "kernelspec": {
   "display_name": "Python 3 (ipykernel)",
   "language": "python",
   "name": "python3"
  },
  "language_info": {
   "codemirror_mode": {
    "name": "ipython",
    "version": 3
   },
   "file_extension": ".py",
   "mimetype": "text/x-python",
   "name": "python",
   "nbconvert_exporter": "python",
   "pygments_lexer": "ipython3",
   "version": "3.11.4"
  }
 },
 "nbformat": 4,
 "nbformat_minor": 5
}
